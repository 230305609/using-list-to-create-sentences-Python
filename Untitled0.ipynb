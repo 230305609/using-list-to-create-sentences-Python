{
  "nbformat": 4,
  "nbformat_minor": 0,
  "metadata": {
    "colab": {
      "provenance": [],
      "authorship_tag": "ABX9TyNmpefGANiXDLYe3IFfo22g",
      "include_colab_link": true
    },
    "kernelspec": {
      "name": "python3",
      "display_name": "Python 3"
    },
    "language_info": {
      "name": "python"
    }
  },
  "cells": [
    {
      "cell_type": "markdown",
      "metadata": {
        "id": "view-in-github",
        "colab_type": "text"
      },
      "source": [
        "<a href=\"https://colab.research.google.com/github/230305609/using-list-to-create-sentences-Python/blob/main/Untitled0.ipynb\" target=\"_parent\"><img src=\"https://colab.research.google.com/assets/colab-badge.svg\" alt=\"Open In Colab\"/></a>"
      ]
    },
    {
      "cell_type": "code",
      "execution_count": 2,
      "metadata": {
        "colab": {
          "base_uri": "https://localhost:8080/",
          "height": 35
        },
        "id": "NGXsD5JU5qtX",
        "outputId": "b388a674-dcf1-4d14-d4e5-17dbbe41cfb0"
      },
      "outputs": [
        {
          "output_type": "execute_result",
          "data": {
            "text/plain": [
              "'Vc Consegue'"
            ],
            "application/vnd.google.colaboratory.intrinsic+json": {
              "type": "string"
            }
          },
          "metadata": {},
          "execution_count": 2
        }
      ],
      "source": [
        "string = 'HumptyDumptysatonawallHumptyDumptyhadagreatYbagdsttydmmftujVcfallAlltheKingshorsesandalltheKingsmenCouldntputConseHumptyDumptyinhisplagueceagainapple'\n",
        "# se não funcionar com S utilizar o nome da lista, como fizemos agora\n",
        "#incluso aumentar 1, excluso não midificar\n",
        "string[59:61]+(' ')+string[109:114]+string[134:137] "
      ]
    }
  ]
}